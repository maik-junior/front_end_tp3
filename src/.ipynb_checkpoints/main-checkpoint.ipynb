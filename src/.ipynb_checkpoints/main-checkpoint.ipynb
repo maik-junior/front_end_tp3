{
 "cells": [
  {
   "cell_type": "markdown",
   "id": "56b5b98c-cb1b-4d73-a284-dbb27e24ec0b",
   "metadata": {},
   "source": [
    "<p style=\"text-align: center; font-size: 30px; color: navy; font-weight: bold;\">\n",
    "    TP3 - Desenvolvimento Front-End com Python <br>\n",
    "    Maik Júnior dos Santos\n",
    "</p>"
   ]
  },
  {
   "cell_type": "markdown",
   "id": "2df7d4b7-65db-41f8-b70f-14a3671d70e7",
   "metadata": {},
   "source": [
    "# **Perfil do turista estrangeiro visitante no Brasil e das principais cidades (Rio de Janeiro, São Paulo e Porto Alegre) - 2001**"
   ]
  },
  {
   "cell_type": "markdown",
   "id": "cdbb42d9-2680-4912-93ef-185de86ebedd",
   "metadata": {},
   "source": [
    "**Dados:\n",
    "[Perfil do turista](https://www.data.rio/documents/42707199c61643e9b158f157ddb2757d/about)** "
   ]
  },
  {
   "cell_type": "markdown",
   "id": "ee1e3d04-2746-43a0-84b2-6e21e08da541",
   "metadata": {},
   "source": [
    "---"
   ]
  },
  {
   "cell_type": "code",
   "execution_count": 1,
   "id": "9cd528a3-adef-49e4-8f24-989ff32b6820",
   "metadata": {},
   "outputs": [],
   "source": [
    "#==> Imoportando bibliotecas\n",
    "import streamlit as st\n",
    "import pandas as pd\n",
    "from openpyxl import load_workbook\n",
    "from matplotlib import pyplot as plt\n",
    "import time\n",
    "from streamlit_jupyter import StreamlitPatcher"
   ]
  },
  {
   "cell_type": "markdown",
   "id": "3cd370ad-5dc3-441f-b776-0faaecfc1b5f",
   "metadata": {},
   "source": [
    "## 1. Explicação do Objetivo e Motivação:\n",
    "Explique o objetivo do dashboard que você está desenvolvendo e a motivação por trás da escolha dos dados e funcionalidades que serão implementados."
   ]
  },
  {
   "cell_type": "markdown",
   "id": "a51a9896-0aec-43c4-9104-ab4810b79c98",
   "metadata": {},
   "source": [
    "R= O objetivo da criação do dashboard é identificar quais cidades receberam mais visitantes e evidenciar os fatores que motivam a visita a uma cidade. Serão utilizados recursos de filtros, visualização e criação de métricas por meio do Streamlit."
   ]
  },
  {
   "cell_type": "markdown",
   "id": "737d53f9-5a2a-4596-8309-1eac15b4a450",
   "metadata": {},
   "source": [
    "---"
   ]
  },
  {
   "cell_type": "markdown",
   "id": "bcff8254-45b2-4c88-8ccd-12c744feac37",
   "metadata": {},
   "source": [
    "## 2. Realizar Upload de Arquivo CSV:\n",
    "Crie uma interface em Streamlit que permita ao usuário fazer o upload de um arquivo CSV contendo dados de turismo do portal Data.Rio."
   ]
  },
  {
   "cell_type": "code",
   "execution_count": 2,
   "id": "0f804925-187f-479b-992e-84ab2803daad",
   "metadata": {},
   "outputs": [],
   "source": [
    "#==> Importando modulo\n",
    "from data_processing.pre_processamento_1 import pre_processamento\n",
    "pre_processamento('461','preprocessing_perfil_do_turista')"
   ]
  },
  {
   "cell_type": "code",
   "execution_count": 3,
   "id": "8ac21927-3ca2-4a0e-af65-aedbc7aff6d4",
   "metadata": {
    "scrolled": true
   },
   "outputs": [],
   "source": [
    "#==> Lendo arquivo\n",
    "dados = pd.read_csv('../file/preprocessing_perfil_do_turista.csv')"
   ]
  },
  {
   "cell_type": "code",
   "execution_count": 4,
   "id": "8624acb4-095b-469f-82ba-8bb5366009d5",
   "metadata": {},
   "outputs": [],
   "source": [
    "#==> Importando modulo\n",
    "from services.convete_to_csv import convert_csv\n",
    "\n",
    "#==> Recupendo dados\n",
    "perfil = dados[:5]\n",
    "convert_csv(perfil,'perfil_do_turista')\n",
    "\n",
    "#==> Recupendo dados\n",
    "tipo_hospedagem = dados[6:10]\n",
    "tipo_hospedagem = tipo_hospedagem.rename(columns={\"Perfil_Turista\":'Hospedagem'})\n",
    "convert_csv(tipo_hospedagem,'Hospedagem')\n",
    "\n",
    "#==> Recupendo dados\n",
    "profissao = dados[10:21]\n",
    "profissao = profissao.rename(columns={\"Perfil_Turista\":'Profissao(%)'})\n",
    "convert_csv(profissao,'Profissao')\n",
    "\n",
    "#==> Recupendo dados\n",
    "motivacao = dados[23:33]\n",
    "motivacao = motivacao.rename(columns={\"Perfil_Turista\":'Motivacao(%)'})\n",
    "convert_csv(motivacao,'Motivacao')\n",
    "\n",
    "#==> Recupendo dados\n",
    "contras = dados[33:]\n",
    "contras = contras.rename(columns={\"Perfil_Turista\":'Aspectos_Negativos(%)'})\n",
    "convert_csv(contras,'Aspectos_Negativos')"
   ]
  },
  {
   "cell_type": "markdown",
   "id": "cf6f817f-4c67-4c06-90ab-026ed3728d08",
   "metadata": {},
   "source": [
    "---"
   ]
  },
  {
   "cell_type": "markdown",
   "id": "022fab6a-ea4d-480e-989c-9d6d10ac1a8e",
   "metadata": {},
   "source": [
    "## 3. Filtro de Dados e Seleção:\n",
    "Implemente seletores (radio, checkbox, dropdowns) na interface que permitam ao usuário filtrar os dados carregados e selecionar as colunas ou linhas que deseja visualizar."
   ]
  },
  {
   "cell_type": "markdown",
   "id": "769dda61-c272-4a35-a639-c3e019e5e88e",
   "metadata": {},
   "source": [
    "---"
   ]
  },
  {
   "cell_type": "code",
   "execution_count": null,
   "id": "21920b4a-14ab-4d6d-aa7c-adb25ba49f41",
   "metadata": {
    "scrolled": true
   },
   "outputs": [],
   "source": [
    "#==> Checkbox\n",
    "select = st.checkbox('Selecione para subir outro conjunto')\n",
    "if select == True:\n",
    "    uploaded_file2 = st.file_uploader('Selecione o Arquivo',type=['csv'],key='uploader_2')\n",
    "    if uploaded_file2 is not None:\n",
    "        dataframe2 = pd.read_csv(uploaded_file2)\n",
    "        with st.spinner('Carregando...'):\n",
    "            time.sleep(3)\n",
    "            st.markdown('**Conjunto de Dados**')\n",
    "            st.write(dataframe2)\n",
    "            \n",
    "            #==> Radio\n",
    "            escolha = st.radio(\"Selecione para ver os dados de:\",('Rio de Janeiro', 'Sao Paulo', 'Porto Alegre'))\n",
    "            if escolha == 'Sao Paulo':\n",
    "                st.write(dataframe2[[str(dataframe2.columns[0]),'Sao_Paulo']])\n",
    "                dataframe2[[str(dataframe2.columns[0]),'Sao_Paulo']].to_csv('../file/Sao_Paulo.csv',index=False)\n",
    "            elif escolha == 'Rio de Janeiro':\n",
    "                st.write(dataframe2[[str(dataframe2.columns[0]),'Rio_de_Janeiro']])\n",
    "                dataframe2[[str(dataframe2.columns[0]),'Rio_de_Janeiro']].to_csv('../file/Rio_de_Janeiro.csv',index=False)\n",
    "            elif escolha == 'Porto Alegre':\n",
    "                st.write(dataframe2[[str(dataframe2.columns[0]),'Porto_Alegre']])\n",
    "                dataframe2[[str(dataframe2.columns[0]),'Porto_Alegre']].to_csv('../file/Porto_Alegre.csv',index=False)\n",
    "\n",
    "            #==> Selectbox\n",
    "            opcoes = dataframe2[str(dataframe2.columns[0])].unique()\n",
    "            opcao_selecionada = st.selectbox(\"Selecione:\",opcoes)\n",
    "            dados = dataframe2[dataframe2[str(dataframe2.columns[0])] == opcao_selecionada]\n",
    "            st.write(dados)"
   ]
  },
  {
   "cell_type": "markdown",
   "id": "49696352-9045-4d1e-b5c6-3e3e2f0925ec",
   "metadata": {},
   "source": [
    "---"
   ]
  },
  {
   "cell_type": "markdown",
   "id": "b5f4b465-df59-4cf7-b3e5-d632b9b54c36",
   "metadata": {},
   "source": [
    "## 4. Desenvolver Serviço de Download de Arquivos:\n",
    "Implemente um serviço que permita ao usuário fazer o download dos dados filtrados em formato CSV diretamente pela interface da aplicação."
   ]
  },
  {
   "cell_type": "code",
   "execution_count": null,
   "id": "c132393b-9f97-475d-b73b-6749e61e9f94",
   "metadata": {},
   "outputs": [],
   "source": [
    "#==> Radio\n",
    "escolha = st.radio(\"Selecione para baixar os dados:\",('Rio de Janeiro', 'Sao Paulo', 'Porto Alegre'))\n",
    "if escolha == 'Rio de Janeiro':\n",
    "    dados = pd.read_csv('../file/Rio_de_Janeiro.csv')\n",
    "elif escolha == 'Sao Paulo':\n",
    "    dados = pd.read_csv('../file/Sao_Paulo.csv')\n",
    "elif escolha == 'Porto Alegre':\n",
    "    dados = pd.read_csv('../file/Porto_Alegre.csv')\n",
    "    \n",
    "#==> Download \n",
    "if dados is not None:\n",
    "    csv = dados.to_csv(index=False)\n",
    "    st.download_button(\n",
    "        label='Download CSV',\n",
    "        data=csv,\n",
    "        file_name=f'{escolha.replace(\" \", \"_\")}.csv',\n",
    "        mime='text/csv'\n",
    "    )"
   ]
  },
  {
   "cell_type": "markdown",
   "id": "09ed5fd2-5112-458c-bf6a-da00c012ff23",
   "metadata": {},
   "source": [
    "---"
   ]
  },
  {
   "cell_type": "markdown",
   "id": "a7ba60b2-982a-483f-877b-5328f6c96ad8",
   "metadata": {},
   "source": [
    "## 5. Utilizar Barra de Progresso e Spinners:\n",
    "Adicione uma barra de progresso e um spinner para indicar o carregamento dos dados enquanto o arquivo CSV é processado e exibido na interface."
   ]
  },
  {
   "cell_type": "code",
   "execution_count": 7,
   "id": "623d49a6-3bad-4c9b-8552-5c2810550b8d",
   "metadata": {},
   "outputs": [],
   "source": [
    "#==> Progresso\n",
    "st.write('Deseja ver o relatorio principal >>>')\n",
    "def leitura_df():\n",
    "    dt = pd.read_csv('../file/preprocessing_perfil_do_turista.csv')\n",
    "    \n",
    "    progress_bar = st.progress(0)\n",
    "    \n",
    "    for carregamento in range(100):\n",
    "        time.sleep(0.05)\n",
    "        progress_bar.progress(carregamento + 1)\n",
    "    st.dataframe(dt)\n",
    "    \n",
    "#==> Spinner\n",
    "if st.button('Clique aqui'):\n",
    "    leitura_df()\n",
    "    with st.spinner(''):\n",
    "        time.sleep(5)\n",
    "        st.write('carregado.')"
   ]
  },
  {
   "cell_type": "markdown",
   "id": "eea40f81-10ae-4886-9749-84308e916335",
   "metadata": {},
   "source": [
    "---"
   ]
  },
  {
   "cell_type": "markdown",
   "id": "621b183d-b5fb-4b20-a3f1-39ac0efe4021",
   "metadata": {},
   "source": [
    "## 6. Utilizar Color Picker:\n",
    "Adicione um color picker à interface que permita ao usuário personalizar a cor de fundo do painel e das fontes exibidas na aplicação."
   ]
  },
  {
   "cell_type": "code",
   "execution_count": null,
   "id": "4de8ddf4-89e5-4d1f-851e-0f8dfa1c768d",
   "metadata": {},
   "outputs": [],
   "source": [
    "#==> Picker\n",
    "color = st.color_picker('Defina a cor de fundo', '#FFFFFF')\n",
    "\n",
    "#==> Aplicando cor\n",
    "st.markdown(\n",
    "    f\"\"\"\n",
    "    <style>\n",
    "    .stApp {{\n",
    "        background-color: {color};\n",
    "    }}\n",
    "    </style>\n",
    "    \"\"\",\n",
    "    unsafe_allow_html=True\n",
    ")"
   ]
  },
  {
   "cell_type": "markdown",
   "id": "bbc87635-1a58-4c9a-9730-29067b34ea84",
   "metadata": {},
   "source": [
    "---"
   ]
  },
  {
   "cell_type": "markdown",
   "id": "a1fc0466-df46-4d0d-a76a-38cd53bb6d18",
   "metadata": {},
   "source": [
    "## 7. Utilizar Funcionalidade de Cache:\n",
    "Utilize a funcionalidade de cache do Streamlit para armazenar os dados carregados de grandes arquivos CSV, evitando a necessidade de recarregá-los a cada nova interação."
   ]
  },
  {
   "cell_type": "code",
   "execution_count": null,
   "id": "c3a44bc3-be17-4fce-b4da-0ae5e1da949a",
   "metadata": {},
   "outputs": [],
   "source": [
    "#==> Uploaded de arquivo\n",
    "uploaded_file3 = st.file_uploader('Suba o arquivo', type=['csv'],key='uploader_3')\n",
    "if uploaded_file3 is not None:\n",
    "    dataframe3 = pd.read_csv(uploaded_file3)\n",
    "\n",
    "#==> Selecionar colunas\n",
    "selected_columns = st.multiselect(\n",
    "    'Selecione as colunas desejadas',\n",
    "    options=dataframe3.columns,\n",
    "    default=dataframe3.columns.tolist()\n",
    ")\n",
    "\n",
    "#==> Exibindo e filtrando dataset com recurso de <@st.cache>\n",
    "@st.cache_resource\n",
    "def exibe_dataframe(conjunto, colunas):\n",
    "    if colunas:\n",
    "        filtered_df = conjunto[colunas]\n",
    "        st.write('DataFrame filtrado:')\n",
    "        st.dataframe(filtered_df)\n",
    "    else:\n",
    "        st.write('Nenhuma coluna selecionada.')\n",
    "\n",
    "#==> Exibe conjunto\n",
    "exibe_dataframe(dataframe3, selected_columns)"
   ]
  },
  {
   "cell_type": "markdown",
   "id": "7877e7ab-8659-4ea7-84dd-5ab7841949e3",
   "metadata": {},
   "source": [
    "---"
   ]
  },
  {
   "cell_type": "markdown",
   "id": "a7a3f22d-dd90-46dd-b949-58e65267d8a2",
   "metadata": {},
   "source": [
    "## 8. Persistir Dados Usando Session State:\n",
    "Implemente a persistência de dados na aplicação utilizando Session State para manter as preferências do usuário (como filtros e seleções) durante a navegação."
   ]
  },
  {
   "cell_type": "code",
   "execution_count": null,
   "id": "b0467f03-19b3-4b9c-a6fc-c9b0d8b16e39",
   "metadata": {},
   "outputs": [],
   "source": [
    "#==> Uploaded de arquivo\n",
    "uploaded_file4 = st.file_uploader('Suba o arquivo', type=['csv'],key='uploader_4')\n",
    "if uploaded_file4 is not None:\n",
    "    dataframe4 = pd.read_csv(uploaded_file4)\n",
    "    \n",
    "#==> Função para inicializar o Session State se necessário\n",
    "def init_session_state():\n",
    "    if 'selected_columns' not in st.session_state:\n",
    "        st.session_state.selected_columns = dataframe4.columns.tolist()\n",
    "\n",
    "#==> Inicializar o Session State\n",
    "init_session_state()\n",
    "\n",
    "#==> Seletor de colunas com persistência\n",
    "st.session_state.selected_columns = st.multiselect(\n",
    "    'Selecione as colunas desejadas',\n",
    "    options=dataframe4.columns,\n",
    "    default=st.session_state.selected_columns,key='2'\n",
    ")\n",
    "\n",
    "#==> Exibir o conjunto filtrado\n",
    "def exibe_dataframe(conjunto, colunas):\n",
    "    if colunas:\n",
    "        filtered_df = conjunto[colunas]\n",
    "        st.write('DataFrame filtrado:')\n",
    "        st.dataframe(filtered_df)\n",
    "    else:\n",
    "        st.write('Nenhuma coluna selecionada.')\n",
    "\n",
    "#==>==> Exibir conjunto\n",
    "exibe_dataframe(dataframe4, st.session_state.selected_columns)"
   ]
  },
  {
   "cell_type": "markdown",
   "id": "0b1174ef-8924-43f5-b37f-605c12984658",
   "metadata": {},
   "source": [
    "---"
   ]
  },
  {
   "cell_type": "markdown",
   "id": "77bf505a-efbf-4609-9617-5936a9c94d25",
   "metadata": {},
   "source": [
    "## 9. Criar Visualizações de Dados - Tabelas:\n",
    "Crie uma tabela interativa que exiba os dados carregados e permita ao usuário ordenar e filtrar as colunas diretamente pela interface."
   ]
  },
  {
   "cell_type": "code",
   "execution_count": null,
   "id": "d30bb3a7-af53-473c-9c0c-951b6ca79b8a",
   "metadata": {},
   "outputs": [],
   "source": [
    "#==> Selecionar colunas\n",
    "selected_df = st.multiselect(\n",
    "    'Selecione o tabela desejada: ',\n",
    "    options=['Rio_de_Janeiro','Sao_Paulo','Porto_alegre'])\n",
    "\n",
    "#==> Exibindo e filtrando dataset com recurso de <@st.cache>\n",
    "@st.cache_resource\n",
    "def exibe_dataframe(nome):\n",
    "    try:\n",
    "        df = pd.read_csv(f'../file/{nome}.csv')\n",
    "        return df\n",
    "    except FileNotFoundError:\n",
    "        st.error(f\"Arquivo {nome}.csv não encontrado.\")\n",
    "        return None\n",
    "\n",
    "#==> Definindo ordenacao\n",
    "ordenar = st.radio('Ordenar os dados:', ('Ordem crescente', 'Ordem decrescente'))\n",
    "\n",
    "#==> Exibe o conjunto selecionado\n",
    "if selected_df:\n",
    "    for tabela in selected_df:\n",
    "        df = exibe_dataframe(tabela)\n",
    "\n",
    "        if df is not None:\n",
    "            #==> Selecionar coluna para ordenacao\n",
    "            coluna_para_ordenar = st.selectbox(f'Selecione a coluna para ordenar em {tabela}:', df.columns)\n",
    "\n",
    "            #==> Ordenar conforme a selecao\n",
    "            if ordenar == 'Ordem crescente':\n",
    "                df = df.sort_values(by=coluna_para_ordenar, ascending=True)\n",
    "            elif ordenar == 'Ordem decrescente':\n",
    "                df = df.sort_values(by=coluna_para_ordenar, ascending=False)\n",
    "\n",
    "            #==> Exibir conjunto\n",
    "            st.dataframe(df)\n",
    "else:\n",
    "    st.write('Nenhuma tabela selecionada.')"
   ]
  },
  {
   "cell_type": "markdown",
   "id": "d834f949-c448-4228-89e1-7d57dfa3a2de",
   "metadata": {},
   "source": [
    "---"
   ]
  },
  {
   "cell_type": "markdown",
   "id": "d9b6c4a8-a286-4eba-911a-cc3e1b52f5d1",
   "metadata": {},
   "source": [
    "## 10. Criar Visualizações de Dados - Gráficos Simples:\n",
    "Desenvolva gráficos simples (como barras, linhas, e pie charts) para visualização dos dados carregados, utilizando o Streamlit."
   ]
  },
  {
   "cell_type": "code",
   "execution_count": null,
   "id": "246ae2fe-adf2-4db5-9b1e-23ceb988124e",
   "metadata": {},
   "outputs": [],
   "source": [
    "from services.graf_iterative_2 import iteratividade_graf as iterative2\n",
    "\n",
    "#==> Recuperando Conjunto de dados\n",
    "dt = iterative2()\n",
    "\n",
    "#==> Plotando grafico de barras\n",
    "graf_barras = alt.Chart(dt).mark_bar().encode(\n",
    "    x=dt.columns[0],\n",
    "    y=dt.columns[1],\n",
    "    color='Hospedagem'\n",
    ")\n",
    "\n",
    "st.altair_chart(graf_barras)\n",
    "\n",
    "#==> Plotando grafico de pizza\n",
    "graf_pizza = alt.Chart(dt).mark_arc().encode(\n",
    "    theta=alt.Theta(field='Rio_de_Janeiro',type='quantitative'),\n",
    "    color='Hospedagem'\n",
    ")\n",
    "\n",
    "st.altair_chart(graf_pizza)\n",
    "\n",
    "\n",
    "#==> Plotando grafico de linha\n",
    "graf_line = alt.Chart(dt).mark_line(point=True).encode(\n",
    "    x='Hospedagem',\n",
    "    y='Rio_de_Janeiro',\n",
    "    color='Hospedagem'\n",
    ").properties(width=600,\n",
    "            height=300\n",
    "            )\n",
    "\n",
    "st.altair_chart(graf_line)"
   ]
  },
  {
   "cell_type": "markdown",
   "id": "465636b9-4e96-42f7-8fcc-2df478ef8bbd",
   "metadata": {},
   "source": [
    "---"
   ]
  },
  {
   "cell_type": "markdown",
   "id": "172c15cd-2b5e-4b2c-adf1-5a1723cc8f4d",
   "metadata": {},
   "source": [
    "## 11. Criar Visualizações de Dados - Gráficos Avançados:\n",
    "Adicione gráficos mais avançados (como histograma ou scatter plot) para fornecer insights mais profundos sobre os dados."
   ]
  },
  {
   "cell_type": "code",
   "execution_count": 5,
   "id": "21934951-07dc-4a41-9b1f-6ba280980ad1",
   "metadata": {},
   "outputs": [],
   "source": [
    "import pandas as pd\n",
    "dt = pd.read_csv('../file/Rio_de_Janeiro.csv')"
   ]
  },
  {
   "cell_type": "code",
   "execution_count": 6,
   "id": "55ec301f-f719-4a66-9738-7d3bdf9eb3d8",
   "metadata": {},
   "outputs": [
    {
     "data": {
      "text/html": [
       "<div>\n",
       "<style scoped>\n",
       "    .dataframe tbody tr th:only-of-type {\n",
       "        vertical-align: middle;\n",
       "    }\n",
       "\n",
       "    .dataframe tbody tr th {\n",
       "        vertical-align: top;\n",
       "    }\n",
       "\n",
       "    .dataframe thead th {\n",
       "        text-align: right;\n",
       "    }\n",
       "</style>\n",
       "<table border=\"1\" class=\"dataframe\">\n",
       "  <thead>\n",
       "    <tr style=\"text-align: right;\">\n",
       "      <th></th>\n",
       "      <th>Hospedagem</th>\n",
       "      <th>Rio_de_Janeiro</th>\n",
       "    </tr>\n",
       "  </thead>\n",
       "  <tbody>\n",
       "    <tr>\n",
       "      <th>0</th>\n",
       "      <td>Hotel</td>\n",
       "      <td>79.71</td>\n",
       "    </tr>\n",
       "    <tr>\n",
       "      <th>1</th>\n",
       "      <td>Casa de amigos/parentes</td>\n",
       "      <td>10.48</td>\n",
       "    </tr>\n",
       "    <tr>\n",
       "      <th>2</th>\n",
       "      <td>Apartamento de aluguel</td>\n",
       "      <td>7.24</td>\n",
       "    </tr>\n",
       "    <tr>\n",
       "      <th>3</th>\n",
       "      <td>Outros</td>\n",
       "      <td>2.57</td>\n",
       "    </tr>\n",
       "  </tbody>\n",
       "</table>\n",
       "</div>"
      ],
      "text/plain": [
       "                Hospedagem  Rio_de_Janeiro\n",
       "0                    Hotel           79.71\n",
       "1  Casa de amigos/parentes           10.48\n",
       "2   Apartamento de aluguel            7.24\n",
       "3                   Outros            2.57"
      ]
     },
     "execution_count": 6,
     "metadata": {},
     "output_type": "execute_result"
    }
   ],
   "source": [
    "dt"
   ]
  },
  {
   "cell_type": "code",
   "execution_count": null,
   "id": "d0d201c3-d7b6-42c9-8a41-fe5dfe1454b1",
   "metadata": {},
   "outputs": [],
   "source": [
    "Hospedagem"
   ]
  },
  {
   "cell_type": "markdown",
   "id": "e1defa92-49d5-43b5-82f0-5a5188df8e62",
   "metadata": {},
   "source": [
    "---"
   ]
  },
  {
   "cell_type": "markdown",
   "id": "00606b18-00f9-4464-847d-c3cbee4985e9",
   "metadata": {},
   "source": [
    "## 12. Exibir Métricas Básicas:\n",
    "Implemente a exibição de métricas básicas (como contagem de registros, médias, somas) diretamente na interface para fornecer um resumo rápido dos dados carregados."
   ]
  },
  {
   "cell_type": "code",
   "execution_count": null,
   "id": "d04b7edd-de51-40e8-abe4-7d046e7b0526",
   "metadata": {},
   "outputs": [],
   "source": [
    "col1, col2 = st.columns(2)\n",
    "with col1:\n",
    "    st.write('Percentual Máximo')\n",
    "    max_value = dt['Rio_de_Janeiro'].max()\n",
    "    # Exibir o valor com estilo de métrica\n",
    "    st.markdown(f\"\"\"<div style=\"font-size:50px; color:#4CAF50; font-weight:bold; text-align:center;\">{max_value}</div>\"\"\",unsafe_allow_html=True)\n",
    "with col2:\n",
    "    st.write('Percentual Mínimo')\n",
    "    min_value = dt['Rio_de_Janeiro'].min()\n",
    "    # Exibir o valor com estilo de métrica\n",
    "    st.markdown(f\"\"\"<div style=\"font-size:50px; color:#4CAF50; font-weight:bold; text-align:center;\">{min_value}</div>\"\"\",unsafe_allow_html=True)"
   ]
  },
  {
   "cell_type": "markdown",
   "id": "3bd0799d-2120-4cd2-89d6-f8b92f0c4e07",
   "metadata": {},
   "source": [
    "---"
   ]
  },
  {
   "cell_type": "markdown",
   "id": "b1de17f3-a44f-4031-abe7-4eeae9e50e17",
   "metadata": {},
   "source": [
    "[**Repostorio - Clique Aqui!**]('https://git-scm.com/downloads')"
   ]
  }
 ],
 "metadata": {
  "kernelspec": {
   "display_name": "Python 3 (ipykernel)",
   "language": "python",
   "name": "python3"
  },
  "language_info": {
   "codemirror_mode": {
    "name": "ipython",
    "version": 3
   },
   "file_extension": ".py",
   "mimetype": "text/x-python",
   "name": "python",
   "nbconvert_exporter": "python",
   "pygments_lexer": "ipython3",
   "version": "3.12.5"
  }
 },
 "nbformat": 4,
 "nbformat_minor": 5
}
